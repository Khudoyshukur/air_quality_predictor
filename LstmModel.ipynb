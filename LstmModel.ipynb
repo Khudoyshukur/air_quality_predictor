{
 "cells": [
  {
   "cell_type": "code",
   "execution_count": 34,
   "id": "initial_id",
   "metadata": {
    "collapsed": true,
    "ExecuteTime": {
     "end_time": "2024-08-19T06:10:35.711748Z",
     "start_time": "2024-08-19T06:10:35.707674Z"
    }
   },
   "outputs": [],
   "source": [
    "import pandas as pd\n",
    "import numpy as np\n",
    "from sklearn.preprocessing import MinMaxScaler\n",
    "from keras.api import Sequential\n",
    "from keras.api.layers import LSTM, Dense, Input"
   ]
  },
  {
   "cell_type": "code",
   "execution_count": 155,
   "outputs": [
    {
     "name": "stdout",
     "output_type": "stream",
     "text": [
      "             Date      Time           Station       AQI  Humidity  \\\n",
      "0         4/16/24  23:00:00  Халқлар дўстлиги  0.164537  1.000000   \n",
      "1      2024-04-16  22:00:00  Халқлар дўстлиги  0.141720  1.000000   \n",
      "2      2024-04-16  21:00:00  Халқлар дўстлиги  0.148239  1.000000   \n",
      "3      2024-04-16  20:00:00  Халқлар дўстлиги  0.144979  1.000000   \n",
      "4      2024-04-16  19:00:00  Халқлар дўстлиги  0.128681  1.000000   \n",
      "...           ...       ...               ...       ...       ...   \n",
      "11262  2022-11-07  17:00:00  Халқлар дўстлиги  0.018600  0.368113   \n",
      "11263  2022-11-07  16:00:00  Халқлар дўстлиги  0.018600  0.368113   \n",
      "11264  2022-11-07  15:00:00  Халқлар дўстлиги  0.000000  0.370457   \n",
      "11265  2022-11-07  14:00:00  Халқлар дўстлиги  0.033066  0.366549   \n",
      "11266  2022-11-07  13:00:00  Халқлар дўстлиги  0.043399       NaN   \n",
      "\n",
      "       Temperature  Precipitation     PM2.5  \n",
      "0         0.502660            0.0  0.063683  \n",
      "1         0.508865            0.0  0.051635  \n",
      "2         0.517730            0.0  0.055077  \n",
      "3         0.526596            0.0  0.053356  \n",
      "4         0.544326            0.0  0.044750  \n",
      "...            ...            ...       ...  \n",
      "11262     0.710993            0.0  0.005164  \n",
      "11263     0.710993            0.0  0.005164  \n",
      "11264     0.709220            0.0  0.000000  \n",
      "11265     0.707447            0.0  0.009180  \n",
      "11266          NaN            0.0  0.012048  \n",
      "\n",
      "[11267 rows x 8 columns]\n"
     ]
    }
   ],
   "source": [
    "data = pd.read_csv('data/outputRegion.csv', delimiter=';', decimal=',') # read processed csv\n",
    "\n",
    "features = ['AQI', 'Humidity', 'Temperature', 'Precipitation', 'PM2.5']\n",
    "target = 'AQI' # target prediction parameter\n",
    "\n",
    "# Scale the data for normalization\n",
    "scaler = MinMaxScaler()\n",
    "data[features] = scaler.fit_transform(data[features])\n",
    "\n",
    "print(data)"
   ],
   "metadata": {
    "collapsed": false,
    "ExecuteTime": {
     "end_time": "2024-08-20T03:27:56.116540Z",
     "start_time": "2024-08-20T03:27:56.085368Z"
    }
   },
   "id": "d339bf3d0d88ac94"
  },
  {
   "cell_type": "code",
   "execution_count": 156,
   "outputs": [],
   "source": [
    "def cleanDataset(dataset, look_back):\n",
    "    subsets = []\n",
    "    \n",
    "    currentSet = []\n",
    "    for row in dataset:\n",
    "        if (np.isnan(row).any()):\n",
    "            if (len(currentSet) > look_back):\n",
    "                subsets.append(currentSet)    \n",
    "            currentSet = []\n",
    "        else:\n",
    "            currentSet.append(row)\n",
    "    \n",
    "    return subsets"
   ],
   "metadata": {
    "collapsed": false,
    "ExecuteTime": {
     "end_time": "2024-08-20T03:28:00.538027Z",
     "start_time": "2024-08-20T03:28:00.532153Z"
    }
   },
   "id": "c8cd31ad4488d7f2"
  },
  {
   "cell_type": "code",
   "execution_count": 170,
   "outputs": [
    {
     "name": "stdout",
     "output_type": "stream",
     "text": [
      "[0.21017146 0.69109027 0.41843972 0.         0.08777969]\n"
     ]
    }
   ],
   "source": [
    "look_back = 7 * 24  # 1 days of hourly data\n",
    "cleanedSubsets = cleanDataset(data[features].values, look_back)\n",
    "print(cleanedSubsets[0][0])"
   ],
   "metadata": {
    "collapsed": false,
    "ExecuteTime": {
     "end_time": "2024-08-20T03:44:37.854099Z",
     "start_time": "2024-08-20T03:44:37.828848Z"
    }
   },
   "id": "d78a86461b2858f2"
  },
  {
   "cell_type": "code",
   "execution_count": 171,
   "outputs": [],
   "source": [
    "# creates a data sequences by look_back\n",
    "def create_sequences(dataset, look_back):\n",
    "    X, y = [], []        \n",
    "    \n",
    "    for i in range(len(dataset) - look_back - 1):\n",
    "        X.append(dataset[i:(i + look_back)])\n",
    "        y.append(dataset[i + look_back][0]) \n",
    "        \n",
    "    return np.array(X), np.array(y)"
   ],
   "metadata": {
    "collapsed": false,
    "ExecuteTime": {
     "end_time": "2024-08-20T03:44:38.957127Z",
     "start_time": "2024-08-20T03:44:38.951286Z"
    }
   },
   "id": "791deaf783e58c9b"
  },
  {
   "cell_type": "code",
   "execution_count": 172,
   "outputs": [
    {
     "name": "stdout",
     "output_type": "stream",
     "text": [
      "168\n",
      "0.1221620775471167\n"
     ]
    }
   ],
   "source": [
    "X = []\n",
    "y = []\n",
    "for subset in cleanedSubsets:\n",
    "    X_sub, y_sub = create_sequences(subset, look_back)\n",
    "\n",
    "    X.extend(X_sub)\n",
    "    y.extend(y_sub)\n",
    "\n",
    "X = np.array(X)\n",
    "y = np.array(y)\n",
    "\n",
    "print(len(X[0]))\n",
    "print(y[0])"
   ],
   "metadata": {
    "collapsed": false,
    "ExecuteTime": {
     "end_time": "2024-08-20T03:44:39.633641Z",
     "start_time": "2024-08-20T03:44:39.479745Z"
    }
   },
   "id": "63d0cd3e6c42fd40"
  },
  {
   "cell_type": "code",
   "execution_count": 173,
   "outputs": [
    {
     "name": "stdout",
     "output_type": "stream",
     "text": [
      "4468\n",
      "4468\n",
      "1276\n",
      "1276\n",
      "639\n",
      "639\n"
     ]
    }
   ],
   "source": [
    "# Splitting the data into training and test sets\n",
    "# 70 % training and 20 % validation and 10 % test\n",
    "train_size = int(len(X) * 0.7) \n",
    "validation_size = int(len(X) * 0.2)\n",
    "\n",
    "X_train = X[:train_size]\n",
    "y_train = y[:train_size]\n",
    "\n",
    "X_validation = X[train_size:(train_size + validation_size)]\n",
    "y_validation = y[train_size:(train_size + validation_size)]\n",
    "\n",
    "X_test = X[(train_size + validation_size):]\n",
    "y_test = y[(train_size + validation_size):]\n",
    "\n",
    "print(len(X_train))\n",
    "print(len(y_train))\n",
    "print(len(X_validation))\n",
    "print(len(y_validation))\n",
    "print(len(X_test))\n",
    "print(len(y_test))"
   ],
   "metadata": {
    "collapsed": false,
    "ExecuteTime": {
     "end_time": "2024-08-20T03:44:41.379684Z",
     "start_time": "2024-08-20T03:44:41.377917Z"
    }
   },
   "id": "3b221ef167aaebbe"
  },
  {
   "cell_type": "code",
   "execution_count": 174,
   "outputs": [
    {
     "name": "stdout",
     "output_type": "stream",
     "text": [
      "Epoch 1/50\n",
      "\u001B[1m140/140\u001B[0m \u001B[32m━━━━━━━━━━━━━━━━━━━━\u001B[0m\u001B[37m\u001B[0m \u001B[1m9s\u001B[0m 56ms/step - loss: 0.0138 - val_loss: 0.0143\n",
      "Epoch 2/50\n",
      "\u001B[1m140/140\u001B[0m \u001B[32m━━━━━━━━━━━━━━━━━━━━\u001B[0m\u001B[37m\u001B[0m \u001B[1m8s\u001B[0m 55ms/step - loss: 0.0045 - val_loss: 0.0085\n",
      "Epoch 3/50\n",
      "\u001B[1m140/140\u001B[0m \u001B[32m━━━━━━━━━━━━━━━━━━━━\u001B[0m\u001B[37m\u001B[0m \u001B[1m8s\u001B[0m 54ms/step - loss: 0.0029 - val_loss: 0.0057\n",
      "Epoch 4/50\n",
      "\u001B[1m140/140\u001B[0m \u001B[32m━━━━━━━━━━━━━━━━━━━━\u001B[0m\u001B[37m\u001B[0m \u001B[1m8s\u001B[0m 55ms/step - loss: 0.0023 - val_loss: 0.0052\n",
      "Epoch 5/50\n",
      "\u001B[1m140/140\u001B[0m \u001B[32m━━━━━━━━━━━━━━━━━━━━\u001B[0m\u001B[37m\u001B[0m \u001B[1m8s\u001B[0m 55ms/step - loss: 0.0021 - val_loss: 0.0048\n",
      "Epoch 6/50\n",
      "\u001B[1m140/140\u001B[0m \u001B[32m━━━━━━━━━━━━━━━━━━━━\u001B[0m\u001B[37m\u001B[0m \u001B[1m8s\u001B[0m 55ms/step - loss: 0.0018 - val_loss: 0.0045\n",
      "Epoch 7/50\n",
      "\u001B[1m140/140\u001B[0m \u001B[32m━━━━━━━━━━━━━━━━━━━━\u001B[0m\u001B[37m\u001B[0m \u001B[1m8s\u001B[0m 55ms/step - loss: 0.0019 - val_loss: 0.0044\n",
      "Epoch 8/50\n",
      "\u001B[1m140/140\u001B[0m \u001B[32m━━━━━━━━━━━━━━━━━━━━\u001B[0m\u001B[37m\u001B[0m \u001B[1m8s\u001B[0m 55ms/step - loss: 0.0017 - val_loss: 0.0042\n",
      "Epoch 9/50\n",
      "\u001B[1m140/140\u001B[0m \u001B[32m━━━━━━━━━━━━━━━━━━━━\u001B[0m\u001B[37m\u001B[0m \u001B[1m8s\u001B[0m 55ms/step - loss: 0.0017 - val_loss: 0.0041\n",
      "Epoch 10/50\n",
      "\u001B[1m140/140\u001B[0m \u001B[32m━━━━━━━━━━━━━━━━━━━━\u001B[0m\u001B[37m\u001B[0m \u001B[1m8s\u001B[0m 55ms/step - loss: 0.0016 - val_loss: 0.0041\n",
      "Epoch 11/50\n",
      "\u001B[1m140/140\u001B[0m \u001B[32m━━━━━━━━━━━━━━━━━━━━\u001B[0m\u001B[37m\u001B[0m \u001B[1m8s\u001B[0m 55ms/step - loss: 0.0015 - val_loss: 0.0041\n",
      "Epoch 12/50\n",
      "\u001B[1m140/140\u001B[0m \u001B[32m━━━━━━━━━━━━━━━━━━━━\u001B[0m\u001B[37m\u001B[0m \u001B[1m8s\u001B[0m 55ms/step - loss: 0.0017 - val_loss: 0.0041\n",
      "Epoch 13/50\n",
      "\u001B[1m140/140\u001B[0m \u001B[32m━━━━━━━━━━━━━━━━━━━━\u001B[0m\u001B[37m\u001B[0m \u001B[1m8s\u001B[0m 55ms/step - loss: 0.0016 - val_loss: 0.0040\n",
      "Epoch 14/50\n",
      "\u001B[1m140/140\u001B[0m \u001B[32m━━━━━━━━━━━━━━━━━━━━\u001B[0m\u001B[37m\u001B[0m \u001B[1m8s\u001B[0m 55ms/step - loss: 0.0018 - val_loss: 0.0046\n",
      "Epoch 15/50\n",
      "\u001B[1m140/140\u001B[0m \u001B[32m━━━━━━━━━━━━━━━━━━━━\u001B[0m\u001B[37m\u001B[0m \u001B[1m8s\u001B[0m 56ms/step - loss: 0.0016 - val_loss: 0.0043\n",
      "Epoch 16/50\n",
      "\u001B[1m140/140\u001B[0m \u001B[32m━━━━━━━━━━━━━━━━━━━━\u001B[0m\u001B[37m\u001B[0m \u001B[1m8s\u001B[0m 55ms/step - loss: 0.0016 - val_loss: 0.0040\n",
      "Epoch 17/50\n",
      "\u001B[1m140/140\u001B[0m \u001B[32m━━━━━━━━━━━━━━━━━━━━\u001B[0m\u001B[37m\u001B[0m \u001B[1m8s\u001B[0m 55ms/step - loss: 0.0016 - val_loss: 0.0042\n",
      "Epoch 18/50\n",
      "\u001B[1m140/140\u001B[0m \u001B[32m━━━━━━━━━━━━━━━━━━━━\u001B[0m\u001B[37m\u001B[0m \u001B[1m8s\u001B[0m 55ms/step - loss: 0.0018 - val_loss: 0.0039\n",
      "Epoch 19/50\n",
      "\u001B[1m140/140\u001B[0m \u001B[32m━━━━━━━━━━━━━━━━━━━━\u001B[0m\u001B[37m\u001B[0m \u001B[1m8s\u001B[0m 56ms/step - loss: 0.0016 - val_loss: 0.0045\n",
      "Epoch 20/50\n",
      "\u001B[1m140/140\u001B[0m \u001B[32m━━━━━━━━━━━━━━━━━━━━\u001B[0m\u001B[37m\u001B[0m \u001B[1m8s\u001B[0m 55ms/step - loss: 0.0016 - val_loss: 0.0040\n",
      "Epoch 21/50\n",
      "\u001B[1m140/140\u001B[0m \u001B[32m━━━━━━━━━━━━━━━━━━━━\u001B[0m\u001B[37m\u001B[0m \u001B[1m8s\u001B[0m 55ms/step - loss: 0.0015 - val_loss: 0.0041\n",
      "Epoch 22/50\n",
      "\u001B[1m140/140\u001B[0m \u001B[32m━━━━━━━━━━━━━━━━━━━━\u001B[0m\u001B[37m\u001B[0m \u001B[1m8s\u001B[0m 55ms/step - loss: 0.0015 - val_loss: 0.0046\n",
      "Epoch 23/50\n",
      "\u001B[1m140/140\u001B[0m \u001B[32m━━━━━━━━━━━━━━━━━━━━\u001B[0m\u001B[37m\u001B[0m \u001B[1m8s\u001B[0m 55ms/step - loss: 0.0016 - val_loss: 0.0062\n",
      "Epoch 24/50\n",
      "\u001B[1m140/140\u001B[0m \u001B[32m━━━━━━━━━━━━━━━━━━━━\u001B[0m\u001B[37m\u001B[0m \u001B[1m8s\u001B[0m 55ms/step - loss: 0.0016 - val_loss: 0.0041\n",
      "Epoch 25/50\n",
      "\u001B[1m140/140\u001B[0m \u001B[32m━━━━━━━━━━━━━━━━━━━━\u001B[0m\u001B[37m\u001B[0m \u001B[1m8s\u001B[0m 55ms/step - loss: 0.0016 - val_loss: 0.0040\n",
      "Epoch 26/50\n",
      "\u001B[1m140/140\u001B[0m \u001B[32m━━━━━━━━━━━━━━━━━━━━\u001B[0m\u001B[37m\u001B[0m \u001B[1m8s\u001B[0m 56ms/step - loss: 0.0017 - val_loss: 0.0056\n",
      "Epoch 27/50\n",
      "\u001B[1m140/140\u001B[0m \u001B[32m━━━━━━━━━━━━━━━━━━━━\u001B[0m\u001B[37m\u001B[0m \u001B[1m8s\u001B[0m 56ms/step - loss: 0.0017 - val_loss: 0.0041\n",
      "Epoch 28/50\n",
      "\u001B[1m140/140\u001B[0m \u001B[32m━━━━━━━━━━━━━━━━━━━━\u001B[0m\u001B[37m\u001B[0m \u001B[1m8s\u001B[0m 55ms/step - loss: 0.0015 - val_loss: 0.0041\n",
      "Epoch 29/50\n",
      "\u001B[1m140/140\u001B[0m \u001B[32m━━━━━━━━━━━━━━━━━━━━\u001B[0m\u001B[37m\u001B[0m \u001B[1m8s\u001B[0m 55ms/step - loss: 0.0017 - val_loss: 0.0048\n",
      "Epoch 30/50\n",
      "\u001B[1m140/140\u001B[0m \u001B[32m━━━━━━━━━━━━━━━━━━━━\u001B[0m\u001B[37m\u001B[0m \u001B[1m8s\u001B[0m 55ms/step - loss: 0.0017 - val_loss: 0.0046\n",
      "Epoch 31/50\n",
      "\u001B[1m140/140\u001B[0m \u001B[32m━━━━━━━━━━━━━━━━━━━━\u001B[0m\u001B[37m\u001B[0m \u001B[1m8s\u001B[0m 55ms/step - loss: 0.0017 - val_loss: 0.0039\n",
      "Epoch 32/50\n",
      "\u001B[1m140/140\u001B[0m \u001B[32m━━━━━━━━━━━━━━━━━━━━\u001B[0m\u001B[37m\u001B[0m \u001B[1m8s\u001B[0m 56ms/step - loss: 0.0016 - val_loss: 0.0041\n",
      "Epoch 33/50\n",
      "\u001B[1m140/140\u001B[0m \u001B[32m━━━━━━━━━━━━━━━━━━━━\u001B[0m\u001B[37m\u001B[0m \u001B[1m8s\u001B[0m 57ms/step - loss: 0.0015 - val_loss: 0.0048\n",
      "Epoch 34/50\n",
      "\u001B[1m140/140\u001B[0m \u001B[32m━━━━━━━━━━━━━━━━━━━━\u001B[0m\u001B[37m\u001B[0m \u001B[1m8s\u001B[0m 56ms/step - loss: 0.0015 - val_loss: 0.0041\n",
      "Epoch 35/50\n",
      "\u001B[1m140/140\u001B[0m \u001B[32m━━━━━━━━━━━━━━━━━━━━\u001B[0m\u001B[37m\u001B[0m \u001B[1m8s\u001B[0m 56ms/step - loss: 0.0016 - val_loss: 0.0043\n",
      "Epoch 36/50\n",
      "\u001B[1m140/140\u001B[0m \u001B[32m━━━━━━━━━━━━━━━━━━━━\u001B[0m\u001B[37m\u001B[0m \u001B[1m8s\u001B[0m 56ms/step - loss: 0.0016 - val_loss: 0.0039\n",
      "Epoch 37/50\n",
      "\u001B[1m140/140\u001B[0m \u001B[32m━━━━━━━━━━━━━━━━━━━━\u001B[0m\u001B[37m\u001B[0m \u001B[1m8s\u001B[0m 56ms/step - loss: 0.0016 - val_loss: 0.0040\n",
      "Epoch 38/50\n",
      "\u001B[1m140/140\u001B[0m \u001B[32m━━━━━━━━━━━━━━━━━━━━\u001B[0m\u001B[37m\u001B[0m \u001B[1m8s\u001B[0m 55ms/step - loss: 0.0016 - val_loss: 0.0040\n",
      "Epoch 39/50\n",
      "\u001B[1m140/140\u001B[0m \u001B[32m━━━━━━━━━━━━━━━━━━━━\u001B[0m\u001B[37m\u001B[0m \u001B[1m8s\u001B[0m 56ms/step - loss: 0.0015 - val_loss: 0.0041\n",
      "Epoch 40/50\n",
      "\u001B[1m140/140\u001B[0m \u001B[32m━━━━━━━━━━━━━━━━━━━━\u001B[0m\u001B[37m\u001B[0m \u001B[1m8s\u001B[0m 54ms/step - loss: 0.0017 - val_loss: 0.0040\n",
      "Epoch 41/50\n",
      "\u001B[1m140/140\u001B[0m \u001B[32m━━━━━━━━━━━━━━━━━━━━\u001B[0m\u001B[37m\u001B[0m \u001B[1m8s\u001B[0m 56ms/step - loss: 0.0016 - val_loss: 0.0043\n",
      "Epoch 42/50\n",
      "\u001B[1m140/140\u001B[0m \u001B[32m━━━━━━━━━━━━━━━━━━━━\u001B[0m\u001B[37m\u001B[0m \u001B[1m8s\u001B[0m 55ms/step - loss: 0.0015 - val_loss: 0.0046\n",
      "Epoch 43/50\n",
      "\u001B[1m140/140\u001B[0m \u001B[32m━━━━━━━━━━━━━━━━━━━━\u001B[0m\u001B[37m\u001B[0m \u001B[1m8s\u001B[0m 55ms/step - loss: 0.0015 - val_loss: 0.0039\n",
      "Epoch 44/50\n",
      "\u001B[1m140/140\u001B[0m \u001B[32m━━━━━━━━━━━━━━━━━━━━\u001B[0m\u001B[37m\u001B[0m \u001B[1m8s\u001B[0m 55ms/step - loss: 0.0015 - val_loss: 0.0041\n",
      "Epoch 45/50\n",
      "\u001B[1m140/140\u001B[0m \u001B[32m━━━━━━━━━━━━━━━━━━━━\u001B[0m\u001B[37m\u001B[0m \u001B[1m8s\u001B[0m 56ms/step - loss: 0.0015 - val_loss: 0.0044\n",
      "Epoch 46/50\n",
      "\u001B[1m140/140\u001B[0m \u001B[32m━━━━━━━━━━━━━━━━━━━━\u001B[0m\u001B[37m\u001B[0m \u001B[1m8s\u001B[0m 56ms/step - loss: 0.0016 - val_loss: 0.0044\n",
      "Epoch 47/50\n",
      "\u001B[1m140/140\u001B[0m \u001B[32m━━━━━━━━━━━━━━━━━━━━\u001B[0m\u001B[37m\u001B[0m \u001B[1m8s\u001B[0m 57ms/step - loss: 0.0016 - val_loss: 0.0046\n",
      "Epoch 48/50\n",
      "\u001B[1m140/140\u001B[0m \u001B[32m━━━━━━━━━━━━━━━━━━━━\u001B[0m\u001B[37m\u001B[0m \u001B[1m8s\u001B[0m 56ms/step - loss: 0.0015 - val_loss: 0.0040\n",
      "Epoch 49/50\n",
      "\u001B[1m140/140\u001B[0m \u001B[32m━━━━━━━━━━━━━━━━━━━━\u001B[0m\u001B[37m\u001B[0m \u001B[1m8s\u001B[0m 56ms/step - loss: 0.0015 - val_loss: 0.0045\n",
      "Epoch 50/50\n",
      "\u001B[1m140/140\u001B[0m \u001B[32m━━━━━━━━━━━━━━━━━━━━\u001B[0m\u001B[37m\u001B[0m \u001B[1m8s\u001B[0m 56ms/step - loss: 0.0016 - val_loss: 0.0052\n"
     ]
    },
    {
     "data": {
      "text/plain": "<keras.src.callbacks.history.History at 0x36112bfd0>"
     },
     "execution_count": 174,
     "metadata": {},
     "output_type": "execute_result"
    }
   ],
   "source": [
    "# Build the LSTM model\n",
    "model = Sequential()\n",
    "model.add(Input(shape=(X_train.shape[1], X_train.shape[2])))\n",
    "model.add(LSTM(50, return_sequences=True, activation='relu'))\n",
    "model.add(LSTM(50, activation='relu'))\n",
    "model.add(Dense(1)) \n",
    "model.compile(loss='mean_squared_error', optimizer='adam')\n",
    "\n",
    "\n",
    "# 8. Train the model\n",
    "model.fit(X_train, y_train, epochs=50, batch_size=32, validation_data=(X_validation, y_validation))\n",
    "\n"
   ],
   "metadata": {
    "collapsed": false,
    "ExecuteTime": {
     "end_time": "2024-08-20T03:51:12.725268Z",
     "start_time": "2024-08-20T03:44:43.373042Z"
    }
   },
   "id": "7c9805a20aaf5de6"
  },
  {
   "cell_type": "code",
   "execution_count": 175,
   "outputs": [
    {
     "name": "stdout",
     "output_type": "stream",
     "text": [
      "\u001B[1m20/20\u001B[0m \u001B[32m━━━━━━━━━━━━━━━━━━━━\u001B[0m\u001B[37m\u001B[0m \u001B[1m0s\u001B[0m 17ms/step\n",
      "639\n",
      "[79, 55, 52, 52, 52, 51, 51, 50, 47, 46, 46, 46, 45, 43, 43, 41, 41, 40, 40, 40, 40, 39, 39, 37, 37, 36, 36, 36, 36, 35, 33, 33, 33, 32, 32, 32, 32, 32, 31, 31, 31, 30, 30, 30, 30, 30, 30, 29, 29, 29, 28, 28, 28, 28, 28, 28, 27, 27, 27, 27, 27, 27, 26, 26, 26, 26, 26, 26, 26, 26, 25, 25, 25, 25, 25, 25, 25, 25, 25, 24, 24, 24, 24, 23, 23, 23, 23, 23, 23, 22, 22, 22, 22, 22, 22, 22, 22, 22, 22, 21, 21, 21, 21, 21, 21, 21, 21, 21, 21, 21, 21, 20, 20, 20, 20, 20, 20, 20, 20, 20, 20, 20, 20, 20, 20, 20, 19, 19, 19, 19, 19, 19, 19, 19, 19, 19, 19, 19, 19, 19, 19, 19, 19, 19, 19, 19, 18, 18, 18, 18, 18, 18, 18, 18, 18, 18, 18, 18, 18, 18, 17, 17, 17, 17, 17, 17, 17, 17, 17, 17, 17, 17, 17, 17, 16, 16, 16, 16, 16, 16, 16, 16, 16, 16, 16, 16, 16, 16, 16, 16, 15, 15, 15, 15, 15, 15, 15, 15, 15, 15, 15, 15, 15, 15, 15, 15, 15, 15, 15, 15, 15, 15, 14, 14, 14, 14, 14, 14, 14, 14, 14, 14, 14, 14, 14, 14, 14, 14, 14, 14, 14, 14, 14, 13, 13, 13, 13, 13, 13, 13, 13, 13, 13, 13, 13, 13, 12, 12, 12, 12, 12, 12, 12, 12, 12, 12, 12, 12, 12, 12, 12, 11, 11, 11, 11, 11, 11, 11, 11, 11, 11, 11, 11, 11, 11, 11, 11, 11, 11, 11, 11, 11, 11, 11, 11, 11, 10, 10, 10, 10, 10, 10, 10, 10, 10, 10, 10, 10, 10, 10, 10, 10, 10, 10, 10, 10, 10, 10, 10, 10, 9, 9, 9, 9, 9, 9, 9, 9, 9, 9, 9, 9, 9, 9, 9, 9, 9, 9, 9, 9, 9, 9, 9, 8, 8, 8, 8, 8, 8, 8, 8, 8, 8, 8, 8, 8, 8, 8, 8, 8, 8, 8, 8, 8, 8, 8, 8, 8, 8, 7, 7, 7, 7, 7, 7, 7, 7, 7, 7, 7, 7, 7, 7, 7, 7, 7, 7, 7, 7, 7, 7, 7, 7, 7, 7, 7, 7, 7, 7, 6, 6, 6, 6, 6, 6, 6, 6, 6, 6, 6, 6, 6, 6, 6, 6, 6, 6, 6, 6, 6, 5, 5, 5, 5, 5, 5, 5, 5, 5, 5, 5, 5, 5, 5, 5, 5, 5, 5, 5, 5, 5, 5, 5, 5, 5, 5, 5, 5, 5, 5, 5, 5, 5, 5, 5, 4, 4, 4, 4, 4, 4, 4, 4, 4, 4, 4, 4, 4, 4, 4, 4, 4, 4, 4, 4, 4, 4, 4, 4, 4, 4, 4, 4, 4, 4, 4, 4, 4, 3, 3, 3, 3, 3, 3, 3, 3, 3, 3, 3, 3, 3, 3, 3, 3, 3, 3, 3, 3, 3, 3, 3, 3, 3, 3, 3, 3, 3, 3, 3, 3, 3, 3, 3, 3, 3, 3, 3, 3, 2, 2, 2, 2, 2, 2, 2, 2, 2, 2, 2, 2, 2, 2, 2, 2, 2, 2, 2, 2, 2, 2, 2, 2, 2, 2, 2, 2, 2, 1, 1, 1, 1, 1, 1, 1, 1, 1, 1, 1, 1, 1, 1, 1, 1, 1, 1, 1, 1, 1, 1, 1, 1, 1, 1, 1, 1, 1, 1, 1, 1, 1, 1, 1, 0, 0, 0, 0, 0, 0, 0, 0, 0, 0, 0, 0, 0, 0, 0, 0, 0, 0, 0, 0, 0, 0, 0, 0, 0, 0, 0, 0, 0, 0, 0, 0, 0, 0, 0, 0, 0, 0, 0, 0, 0, 0, 0, 0, 0, 0, 0, 0, 0, 0, 0, 0, 0, 0, 0, 0, 0]\n",
      "RMSE: 7.43319090423042\n",
      "MAE: 2.4790971492418925\n"
     ]
    }
   ],
   "source": [
    "predictions = model.predict(X_test)\n",
    "predictions = np.concatenate((predictions, np.zeros((len(predictions), 4))), axis=1)\n",
    "tests = np.concatenate((np.array(y_test)[:, np.newaxis], np.zeros((len(y_test), 4))), axis=1)\n",
    "\n",
    "# Inverse transform the predictions and actual values to original scale\n",
    "predictions = scaler.inverse_transform(predictions)\n",
    "tests = scaler.inverse_transform(tests)\n",
    "\n",
    "diffs = []\n",
    "for i in range(len(predictions)):\n",
    "    diffs.append(int(abs(predictions[i][0] - tests[i][0])))\n",
    "    # print(f\"{predictions[i][0]} {tests[i][0]}\")\n",
    "diffs.sort(reverse=True)\n",
    "print(len(diffs))\n",
    "print(diffs)\n",
    "\n",
    "from sklearn.metrics import mean_squared_error, mean_absolute_error\n",
    "import math  \n",
    "\n",
    "# Calculate RMSE\n",
    "rmse = math.sqrt(mean_squared_error(tests, predictions))\n",
    "print('RMSE:', rmse)\n",
    "\n",
    "# Calculate MAE\n",
    "mae = mean_absolute_error(tests, predictions)\n",
    "print('MAE:', mae)"
   ],
   "metadata": {
    "collapsed": false,
    "ExecuteTime": {
     "end_time": "2024-08-20T03:52:39.988824Z",
     "start_time": "2024-08-20T03:52:39.526757Z"
    }
   },
   "id": "12af7229b1f38128"
  },
  {
   "cell_type": "code",
   "execution_count": null,
   "outputs": [],
   "source": [],
   "metadata": {
    "collapsed": false
   },
   "id": "c46fd15540f96809"
  }
 ],
 "metadata": {
  "kernelspec": {
   "display_name": "Python 3",
   "language": "python",
   "name": "python3"
  },
  "language_info": {
   "codemirror_mode": {
    "name": "ipython",
    "version": 2
   },
   "file_extension": ".py",
   "mimetype": "text/x-python",
   "name": "python",
   "nbconvert_exporter": "python",
   "pygments_lexer": "ipython2",
   "version": "2.7.6"
  }
 },
 "nbformat": 4,
 "nbformat_minor": 5
}
