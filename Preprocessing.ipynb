{
 "cells": [
  {
   "cell_type": "code",
   "execution_count": 2,
   "id": "initial_id",
   "metadata": {
    "collapsed": true,
    "ExecuteTime": {
     "end_time": "2024-08-19T04:20:08.732675Z",
     "start_time": "2024-08-19T04:20:08.157175Z"
    }
   },
   "outputs": [],
   "source": [
    "# import pandas and read csv\n",
    "import pandas as pd\n",
    "\n",
    "df = pd.read_csv('data/air_parameters_cyrillic.csv', delimiter = ';')"
   ]
  },
  {
   "cell_type": "code",
   "execution_count": 5,
   "outputs": [
    {
     "name": "stdout",
     "output_type": "stream",
     "text": [
      "Бектемир тумани, 578-боғча\n",
      "(11435, 8)\n",
      "Гафур Гулом боғи\n",
      "(9378, 8)\n",
      "Локомотив Парк\n",
      "(11350, 8)\n",
      "Олмазор тумани, 423-боғча\n",
      "(9823, 8)\n",
      "Олмазор тумани, Дерматалогия\n",
      "(8778, 8)\n",
      "Тузел-1 557-боғча\n",
      "(11302, 8)\n",
      "Халқлар дўстлиги\n",
      "(11267, 8)\n",
      "Янги Ўзбекистон Боғи\n",
      "(10585, 8)\n",
      "Янгиҳаёт тумани 333-мактаб\n",
      "(9885, 8)\n",
      "Янгиҳаёт тумани, 329-мактаб\n",
      "(8868, 8)\n"
     ]
    }
   ],
   "source": [
    "# group the data by station\n",
    "groupedStationData = df.groupby('Station')\n",
    "\n",
    "for station, stationData in groupedStationData:\n",
    "    print(station)\n",
    "    print(stationData.shape)\n",
    "    "
   ],
   "metadata": {
    "collapsed": false,
    "ExecuteTime": {
     "end_time": "2024-08-19T04:22:05.897716Z",
     "start_time": "2024-08-19T04:22:05.882763Z"
    }
   },
   "id": "85cc5e87cdf22f47"
  },
  {
   "cell_type": "code",
   "execution_count": 24,
   "outputs": [
    {
     "name": "stdout",
     "output_type": "stream",
     "text": [
      "              Date      Time           Station               AQI  \\\n",
      "0          4/16/24  23:00:00  Халқлар дўстлиги  77,0772532188841   \n",
      "19      2024-04-16  22:00:00  Халқлар дўстлиги  69,7167381974249   \n",
      "29      2024-04-16  21:00:00  Халқлар дўстлиги  71,8197424892704   \n",
      "39      2024-04-16  20:00:00  Халқлар дўстлиги  70,7682403433476   \n",
      "46      2024-04-16  19:00:00  Халқлар дўстлиги  65,5107296137339   \n",
      "...            ...       ...               ...               ...   \n",
      "102666  2022-11-07  17:00:00  Халқлар дўстлиги                30   \n",
      "102667  2022-11-07  16:00:00  Халқлар дўстлиги                30   \n",
      "102668  2022-11-07  15:00:00  Халқлар дўстлиги                24   \n",
      "102669  2022-11-07  14:00:00  Халқлар дўстлиги  34,6666666666667   \n",
      "102670  2022-11-07  13:00:00  Халқлар дўстлиги                38   \n",
      "\n",
      "                Humidity Temperature Precipitation             PM2.5  \n",
      "0                   99,9       13,55             0              24,5  \n",
      "19                  99,9        13,9             0                21  \n",
      "29                  99,9        14,4             0                22  \n",
      "39                  99,9        14,9             0              21,5  \n",
      "46                  99,9        15,9             0                19  \n",
      "...                  ...         ...           ...               ...  \n",
      "102666                46        25,3             0               7,5  \n",
      "102667                46        25,3             0               7,5  \n",
      "102668              46,2        25,2             0                 6  \n",
      "102669  45,8666666666667        25,1             0  8,66666666666667  \n",
      "102670               NaN         NaN             0               9,5  \n",
      "\n",
      "[11267 rows x 8 columns]\n"
     ]
    }
   ],
   "source": [
    "# Take 'Халқлар дўстлиги' and write it to new csv\n",
    "selectedStation = df[df['Station'] == 'Халқлар дўстлиги']\n",
    "print(selectedStation)"
   ],
   "metadata": {
    "collapsed": false,
    "ExecuteTime": {
     "end_time": "2024-08-19T05:09:02.351465Z",
     "start_time": "2024-08-19T05:09:02.343929Z"
    }
   },
   "id": "1c0c8507a7efb3b3"
  },
  {
   "cell_type": "code",
   "execution_count": 27,
   "outputs": [],
   "source": [
    "selectedStation.to_csv('data/outputRegion.csv', index=False, sep=\";\") "
   ],
   "metadata": {
    "collapsed": false,
    "ExecuteTime": {
     "end_time": "2024-08-19T05:10:56.127897Z",
     "start_time": "2024-08-19T05:10:56.085532Z"
    }
   },
   "id": "14be420836070145"
  },
  {
   "cell_type": "code",
   "execution_count": null,
   "outputs": [],
   "source": [],
   "metadata": {
    "collapsed": false
   },
   "id": "c75df981f50953d1"
  }
 ],
 "metadata": {
  "kernelspec": {
   "display_name": "Python 3",
   "language": "python",
   "name": "python3"
  },
  "language_info": {
   "codemirror_mode": {
    "name": "ipython",
    "version": 2
   },
   "file_extension": ".py",
   "mimetype": "text/x-python",
   "name": "python",
   "nbconvert_exporter": "python",
   "pygments_lexer": "ipython2",
   "version": "2.7.6"
  }
 },
 "nbformat": 4,
 "nbformat_minor": 5
}
